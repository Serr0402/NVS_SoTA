{
  "nbformat": 4,
  "nbformat_minor": 0,
  "metadata": {
    "colab": {
      "provenance": [],
      "gpuType": "T4"
    },
    "kernelspec": {
      "name": "python3",
      "display_name": "Python 3"
    },
    "language_info": {
      "name": "python"
    },
    "accelerator": "GPU"
  },
  "cells": [
    {
      "cell_type": "code",
      "source": [
        "# Paso 1 - Reinstalar NumPy (esto fuerza reinicio)\n",
        "!pip install --upgrade --force-reinstall numpy==1.23.5\n"
      ],
      "metadata": {
        "id": "YPdnm-V44yhb"
      },
      "execution_count": null,
      "outputs": []
    },
    {
      "cell_type": "code",
      "source": [
        "import os\n",
        "os.kill(os.getpid(), 9)"
      ],
      "metadata": {
        "id": "Z2sf9sGb_MD0"
      },
      "execution_count": null,
      "outputs": []
    },
    {
      "cell_type": "code",
      "source": [
        "\n",
        "# ========================\n",
        "# 🔥 ELIMINAR BACKENDS CONFLICTIVOS\n",
        "# ========================\n",
        "!pip uninstall -y opencv-python opencv-python-headless imageio[opencv] imageio[pyav] av\n"
      ],
      "metadata": {
        "id": "u38VopHFsHN1"
      },
      "execution_count": null,
      "outputs": []
    },
    {
      "cell_type": "code",
      "source": [
        "# ========================\n",
        "# 🔧 DEPENDENCIAS DEL SISTEMA\n",
        "# ========================\n",
        "!apt-get update && apt-get install -y libglfw3-dev libglew-dev\n",
        "\n",
        "# ========================\n",
        "# 🔧 DEPENDENCIAS DE PYTHON\n",
        "# ========================\n",
        "!pip install ninja\n",
        "!pip install gdown\n",
        "!pip install imageio tifffile\n",
        "!pip install matplotlib scikit-image lpips plyfile imageio-ffmpeg"
      ],
      "metadata": {
        "id": "YnQ6If5u_dGl"
      },
      "execution_count": null,
      "outputs": []
    },
    {
      "cell_type": "code",
      "source": [
        "\n",
        "# ========================\n",
        "# 📁 DESCARGA Y PREPARACIÓN DEL REPO\n",
        "# ========================\n",
        "!git clone --recursive https://github.com/caiyuanhao1998/hdr-gs.git\n",
        "%cd hdr-gs\n",
        "\n",
        "# Eliminar y reemplazar submódulo roto\n",
        "!rm -rf /content/hdr-gs/submodules/diff-gaussian-rasterization\n",
        "!git clone https://github.com/graphdeco-inria/diff-gaussian-rasterization.git /content/hdr-gs/submodules/diff-gaussian-rasterization\n",
        "!git clone https://github.com/g-truc/glm.git /content/hdr-gs/submodules/diff-gaussian-rasterization/third_party/glm\n"
      ],
      "metadata": {
        "id": "GCV0vx5_3mDp"
      },
      "execution_count": null,
      "outputs": []
    },
    {
      "cell_type": "code",
      "source": [
        "\n",
        "# Compilar diff-gaussian-rasterization\n",
        "%cd /content/hdr-gs/submodules/diff-gaussian-rasterization\n",
        "import os\n",
        "os.environ['TORCH_CUDA_ARCH_LIST'] = \"7.5;8.6\"\n",
        "!python setup.py build_ext --inplace\n",
        "\n",
        "# Agregar al path\n",
        "import sys\n",
        "sys.path.append('/content/hdr-gs/submodules/diff-gaussian-rasterization')\n",
        "\n",
        "# Compilar simple-knn\n",
        "!git clone https://github.com/camenduru/simple-knn.git /content/hdr-gs/submodules/simple-knn\n",
        "%cd /content/hdr-gs/submodules/simple-knn\n",
        "!python setup.py build_ext --inplace\n",
        "sys.path.append('/content/hdr-gs/submodules/simple-knn')\n"
      ],
      "metadata": {
        "id": "iaF7PAHR3rQm"
      },
      "execution_count": null,
      "outputs": []
    },
    {
      "cell_type": "code",
      "source": [
        "\n",
        "# ========================\n",
        "# 📂 DESCARGA Y PREPARACIÓN DEL DATASET\n",
        "# ========================\n",
        "%cd /content\n",
        "!gdown --id 1-9K8_iFwFH3SeTcRoaOTed-h9GBdRrrr -O dataset.zip\n",
        "!unzip dataset.zip -d dataset\n",
        "!rm dataset.zip\n",
        "!mv dataset/data_hdr /content/hdr-gs && rmdir dataset\n",
        "\n",
        "# ========================\n",
        "# 🔍 CREAR CARPETA DE PESOS PREENTRENADOS\n",
        "# ========================\n",
        "!mkdir -p /content/hdr-gs/pretrained_weights/bathroom\n"
      ],
      "metadata": {
        "id": "_iTl9k1Z3vbG"
      },
      "execution_count": null,
      "outputs": []
    },
    {
      "cell_type": "code",
      "source": [
        "\n",
        "# ⛔ AQUI FALTA: copiar los pesos a /content/hdr-gs/pretrained_weights/bathroom\n",
        "# (Subirlos manualmente o usar gdown si están en Drive)\n"
      ],
      "metadata": {
        "id": "cxTS4-cC3zyn"
      },
      "execution_count": null,
      "outputs": []
    },
    {
      "cell_type": "code",
      "source": [
        "\n",
        "# ========================\n",
        "# 🛠️ MODIFICACIÓN NECESARIA EN CÓDIGO\n",
        "# ========================\n",
        "# Abrir y modificar estos archivos:\n",
        "# 1. `scene/dataset_readers.py`\n",
        "#    Reemplazar la línea:\n",
        "#       image_hdr_np = np.array(imageio.imread(image_hdr_path)).astype(np.float32)\n",
        "#    Por:\n",
        "#       import imageio.v3 as iio\n",
        "#       image_hdr_np = iio.imread(image_hdr_path).astype(np.float32)\n",
        "\n",
        "# 2. `train_synthetic.py`\n",
        "#    Reemplazar guardado con:\n",
        "#       iio.imwrite(output_path, img_np, extension=\".exr\")\n",
        "#    o simplemente:\n",
        "#       iio.imwrite(output_path, img_np)\n"
      ],
      "metadata": {
        "id": "n6KWFQ-w3x6g"
      },
      "execution_count": null,
      "outputs": []
    },
    {
      "cell_type": "code",
      "source": [
        "\n",
        "# ========================\n",
        "# 🚀 EJECUTAR ENTRENAMIENTO\n",
        "# ========================\n",
        "%cd /content/hdr-gs\n",
        "\n",
        "!PYTHONPATH=$PYTHONPATH:/content/hdr-gs/submodules/diff-gaussian-rasterization:/content/hdr-gs/submodules/simple-knn \\\n",
        "python train_synthetic.py \\\n",
        "  --config config/bathroom.yaml \\\n",
        "  --eval \\\n",
        "  --gpu_id 0 \\\n",
        "  --syn\n"
      ],
      "metadata": {
        "id": "LZ7fZ6aG31My"
      },
      "execution_count": null,
      "outputs": []
    }
  ]
}